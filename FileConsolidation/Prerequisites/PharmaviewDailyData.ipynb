{
 "cells": [
  {
   "cell_type": "code",
   "execution_count": 5,
   "metadata": {},
   "outputs": [],
   "source": [
    "import pandas as pd\n",
    "from bs4 import BeautifulSoup\n",
    "from selenium import webdriver\n",
    "from tqdm import tqdm_notebook\n",
    "from selenium.webdriver.common.by import By\n",
    "from selenium.webdriver.support.ui import WebDriverWait\n",
    "import selenium.webdriver.support.expected_conditions as EC\n",
    "import time\n",
    "import os\n"
   ]
  },
  {
   "cell_type": "code",
   "execution_count": 2,
   "metadata": {},
   "outputs": [],
   "source": [
    "defaultDirectory = r'C:\\Users\\venug\\Downloads\\PharmaviewDailyData\\PrimarySector'\n",
    "options = webdriver.ChromeOptions()\n",
    "# options.add_argument('--headless')\n",
    "options.add_argument('--incognito')\n",
    "options.add_argument('--no-sandbox')\n",
    "options.add_argument('--disable-dev-shm-usage')\n",
    "# options.add_argument(\"download.default_directory=C:/Users/venug/Downloads/PharmaviewData/\")\n",
    "prefs = {\"profile.default_content_settings.popups\": 0,\n",
    "             \"download.default_directory\": defaultDirectory,\n",
    "                        #r'C:\\Users\\venug\\Downloads\\PharmaviewDailyData\\PrimarySector\\\\,'IMPORTANT - ENDING SLASH V IMPORTANT\n",
    "             \"directory_upgrade\": True}\n",
    "options.add_experimental_option('prefs',prefs)\n",
    "initialCount = len(os.listdir(defaultDirectory))"
   ]
  },
  {
   "cell_type": "code",
   "execution_count": 4,
   "metadata": {},
   "outputs": [],
   "source": [
    "driver = webdriver.Chrome(r'C:\\Users\\venug\\Downloads\\chromedriver.exe',options = options)"
   ]
  },
  {
   "cell_type": "code",
   "execution_count": 4,
   "metadata": {},
   "outputs": [],
   "source": [
    "driver.get('https://dynamics.pharmaview.dk/ords/f?p=300:101')"
   ]
  },
  {
   "cell_type": "code",
   "execution_count": 5,
   "metadata": {},
   "outputs": [],
   "source": [
    "driver.find_element_by_id(\"P101_USERNAME\").send_keys('amgsaga')\n",
    "driver.find_element_by_id(\"P101_PASSWORD\").send_keys('amgsaga')\n",
    "driver.find_element_by_id('P101_LOGIN').click()\n",
    "timeout = 500\n",
    "locator = '//*[@id=\"direct_menu_menubar_2i\"]'\n",
    "WebDriverWait(driver, timeout).until(EC.visibility_of_element_located((By.XPATH, locator)))\n",
    "driver.find_element_by_id(\"direct_menu_menubar_2i\").click()\n"
   ]
  },
  {
   "cell_type": "code",
   "execution_count": 6,
   "metadata": {},
   "outputs": [
    {
     "ename": "WebDriverException",
     "evalue": "Message: chrome not reachable\n  (Session info: chrome=80.0.3987.163)\n",
     "output_type": "error",
     "traceback": [
      "\u001b[1;31m---------------------------------------------------------------------------\u001b[0m",
      "\u001b[1;31mWebDriverException\u001b[0m                        Traceback (most recent call last)",
      "\u001b[1;32m<ipython-input-6-26072f07d2c6>\u001b[0m in \u001b[0;36m<module>\u001b[1;34m\u001b[0m\n\u001b[1;32m----> 1\u001b[1;33m \u001b[0mdriver\u001b[0m\u001b[1;33m.\u001b[0m\u001b[0mfind_element_by_id\u001b[0m\u001b[1;33m(\u001b[0m\u001b[1;34m'show_filters'\u001b[0m\u001b[1;33m)\u001b[0m\u001b[1;33m.\u001b[0m\u001b[0mclick\u001b[0m\u001b[1;33m(\u001b[0m\u001b[1;33m)\u001b[0m\u001b[1;33m\u001b[0m\u001b[1;33m\u001b[0m\u001b[0m\n\u001b[0m",
      "\u001b[1;32m~\\Anaconda3\\lib\\site-packages\\selenium\\webdriver\\remote\\webdriver.py\u001b[0m in \u001b[0;36mfind_element_by_id\u001b[1;34m(self, id_)\u001b[0m\n\u001b[0;32m    358\u001b[0m             \u001b[0melement\u001b[0m \u001b[1;33m=\u001b[0m \u001b[0mdriver\u001b[0m\u001b[1;33m.\u001b[0m\u001b[0mfind_element_by_id\u001b[0m\u001b[1;33m(\u001b[0m\u001b[1;34m'foo'\u001b[0m\u001b[1;33m)\u001b[0m\u001b[1;33m\u001b[0m\u001b[1;33m\u001b[0m\u001b[0m\n\u001b[0;32m    359\u001b[0m         \"\"\"\n\u001b[1;32m--> 360\u001b[1;33m         \u001b[1;32mreturn\u001b[0m \u001b[0mself\u001b[0m\u001b[1;33m.\u001b[0m\u001b[0mfind_element\u001b[0m\u001b[1;33m(\u001b[0m\u001b[0mby\u001b[0m\u001b[1;33m=\u001b[0m\u001b[0mBy\u001b[0m\u001b[1;33m.\u001b[0m\u001b[0mID\u001b[0m\u001b[1;33m,\u001b[0m \u001b[0mvalue\u001b[0m\u001b[1;33m=\u001b[0m\u001b[0mid_\u001b[0m\u001b[1;33m)\u001b[0m\u001b[1;33m\u001b[0m\u001b[1;33m\u001b[0m\u001b[0m\n\u001b[0m\u001b[0;32m    361\u001b[0m \u001b[1;33m\u001b[0m\u001b[0m\n\u001b[0;32m    362\u001b[0m     \u001b[1;32mdef\u001b[0m \u001b[0mfind_elements_by_id\u001b[0m\u001b[1;33m(\u001b[0m\u001b[0mself\u001b[0m\u001b[1;33m,\u001b[0m \u001b[0mid_\u001b[0m\u001b[1;33m)\u001b[0m\u001b[1;33m:\u001b[0m\u001b[1;33m\u001b[0m\u001b[1;33m\u001b[0m\u001b[0m\n",
      "\u001b[1;32m~\\Anaconda3\\lib\\site-packages\\selenium\\webdriver\\remote\\webdriver.py\u001b[0m in \u001b[0;36mfind_element\u001b[1;34m(self, by, value)\u001b[0m\n\u001b[0;32m    976\u001b[0m         return self.execute(Command.FIND_ELEMENT, {\n\u001b[0;32m    977\u001b[0m             \u001b[1;34m'using'\u001b[0m\u001b[1;33m:\u001b[0m \u001b[0mby\u001b[0m\u001b[1;33m,\u001b[0m\u001b[1;33m\u001b[0m\u001b[1;33m\u001b[0m\u001b[0m\n\u001b[1;32m--> 978\u001b[1;33m             'value': value})['value']\n\u001b[0m\u001b[0;32m    979\u001b[0m \u001b[1;33m\u001b[0m\u001b[0m\n\u001b[0;32m    980\u001b[0m     \u001b[1;32mdef\u001b[0m \u001b[0mfind_elements\u001b[0m\u001b[1;33m(\u001b[0m\u001b[0mself\u001b[0m\u001b[1;33m,\u001b[0m \u001b[0mby\u001b[0m\u001b[1;33m=\u001b[0m\u001b[0mBy\u001b[0m\u001b[1;33m.\u001b[0m\u001b[0mID\u001b[0m\u001b[1;33m,\u001b[0m \u001b[0mvalue\u001b[0m\u001b[1;33m=\u001b[0m\u001b[1;32mNone\u001b[0m\u001b[1;33m)\u001b[0m\u001b[1;33m:\u001b[0m\u001b[1;33m\u001b[0m\u001b[1;33m\u001b[0m\u001b[0m\n",
      "\u001b[1;32m~\\Anaconda3\\lib\\site-packages\\selenium\\webdriver\\remote\\webdriver.py\u001b[0m in \u001b[0;36mexecute\u001b[1;34m(self, driver_command, params)\u001b[0m\n\u001b[0;32m    319\u001b[0m         \u001b[0mresponse\u001b[0m \u001b[1;33m=\u001b[0m \u001b[0mself\u001b[0m\u001b[1;33m.\u001b[0m\u001b[0mcommand_executor\u001b[0m\u001b[1;33m.\u001b[0m\u001b[0mexecute\u001b[0m\u001b[1;33m(\u001b[0m\u001b[0mdriver_command\u001b[0m\u001b[1;33m,\u001b[0m \u001b[0mparams\u001b[0m\u001b[1;33m)\u001b[0m\u001b[1;33m\u001b[0m\u001b[1;33m\u001b[0m\u001b[0m\n\u001b[0;32m    320\u001b[0m         \u001b[1;32mif\u001b[0m \u001b[0mresponse\u001b[0m\u001b[1;33m:\u001b[0m\u001b[1;33m\u001b[0m\u001b[1;33m\u001b[0m\u001b[0m\n\u001b[1;32m--> 321\u001b[1;33m             \u001b[0mself\u001b[0m\u001b[1;33m.\u001b[0m\u001b[0merror_handler\u001b[0m\u001b[1;33m.\u001b[0m\u001b[0mcheck_response\u001b[0m\u001b[1;33m(\u001b[0m\u001b[0mresponse\u001b[0m\u001b[1;33m)\u001b[0m\u001b[1;33m\u001b[0m\u001b[1;33m\u001b[0m\u001b[0m\n\u001b[0m\u001b[0;32m    322\u001b[0m             response['value'] = self._unwrap_value(\n\u001b[0;32m    323\u001b[0m                 response.get('value', None))\n",
      "\u001b[1;32m~\\Anaconda3\\lib\\site-packages\\selenium\\webdriver\\remote\\errorhandler.py\u001b[0m in \u001b[0;36mcheck_response\u001b[1;34m(self, response)\u001b[0m\n\u001b[0;32m    240\u001b[0m                 \u001b[0malert_text\u001b[0m \u001b[1;33m=\u001b[0m \u001b[0mvalue\u001b[0m\u001b[1;33m[\u001b[0m\u001b[1;34m'alert'\u001b[0m\u001b[1;33m]\u001b[0m\u001b[1;33m.\u001b[0m\u001b[0mget\u001b[0m\u001b[1;33m(\u001b[0m\u001b[1;34m'text'\u001b[0m\u001b[1;33m)\u001b[0m\u001b[1;33m\u001b[0m\u001b[1;33m\u001b[0m\u001b[0m\n\u001b[0;32m    241\u001b[0m             \u001b[1;32mraise\u001b[0m \u001b[0mexception_class\u001b[0m\u001b[1;33m(\u001b[0m\u001b[0mmessage\u001b[0m\u001b[1;33m,\u001b[0m \u001b[0mscreen\u001b[0m\u001b[1;33m,\u001b[0m \u001b[0mstacktrace\u001b[0m\u001b[1;33m,\u001b[0m \u001b[0malert_text\u001b[0m\u001b[1;33m)\u001b[0m\u001b[1;33m\u001b[0m\u001b[1;33m\u001b[0m\u001b[0m\n\u001b[1;32m--> 242\u001b[1;33m         \u001b[1;32mraise\u001b[0m \u001b[0mexception_class\u001b[0m\u001b[1;33m(\u001b[0m\u001b[0mmessage\u001b[0m\u001b[1;33m,\u001b[0m \u001b[0mscreen\u001b[0m\u001b[1;33m,\u001b[0m \u001b[0mstacktrace\u001b[0m\u001b[1;33m)\u001b[0m\u001b[1;33m\u001b[0m\u001b[1;33m\u001b[0m\u001b[0m\n\u001b[0m\u001b[0;32m    243\u001b[0m \u001b[1;33m\u001b[0m\u001b[0m\n\u001b[0;32m    244\u001b[0m     \u001b[1;32mdef\u001b[0m \u001b[0m_value_or_default\u001b[0m\u001b[1;33m(\u001b[0m\u001b[0mself\u001b[0m\u001b[1;33m,\u001b[0m \u001b[0mobj\u001b[0m\u001b[1;33m,\u001b[0m \u001b[0mkey\u001b[0m\u001b[1;33m,\u001b[0m \u001b[0mdefault\u001b[0m\u001b[1;33m)\u001b[0m\u001b[1;33m:\u001b[0m\u001b[1;33m\u001b[0m\u001b[1;33m\u001b[0m\u001b[0m\n",
      "\u001b[1;31mWebDriverException\u001b[0m: Message: chrome not reachable\n  (Session info: chrome=80.0.3987.163)\n"
     ]
    }
   ],
   "source": [
    "driver.find_element_by_id('show_filters').click()\n"
   ]
  },
  {
   "cell_type": "code",
   "execution_count": null,
   "metadata": {},
   "outputs": [],
   "source": [
    "driver.find_element_by_id('P80_SECTORS').send_keys('Primary Sector')"
   ]
  },
  {
   "cell_type": "code",
   "execution_count": 9,
   "metadata": {},
   "outputs": [],
   "source": [
    "driver = webdriver.Chrome(r'C:\\Users\\venug\\Downloads\\chromedriver.exe',options = options)\n",
    "driver.get('https://dynamics.pharmaview.dk/ords/f?p=300:101')\n",
    "driver.find_element_by_id(\"P101_USERNAME\").send_keys('amgsaga')\n",
    "driver.find_element_by_id(\"P101_PASSWORD\").send_keys('amgsaga')\n",
    "driver.find_element_by_id('P101_LOGIN').click()\n",
    "timeout = 500\n",
    "locator = '//*[@id=\"direct_menu_menubar_2i\"]'\n",
    "WebDriverWait(driver, timeout).until(EC.visibility_of_element_located((By.XPATH, locator)))\n",
    "driver.find_element_by_id(\"direct_menu_menubar_2i\").click()\n",
    "driver.find_element_by_id('show_filters').click()\n",
    "driver.find_element_by_id('P80_SECTORS').send_keys('Primary Sector')\n",
    "timeout = 500\n",
    "locator = '//*[@id=\"15813645532759790_orig\"]'\n",
    "WebDriverWait(driver, timeout).until(EC.visibility_of_element_located((By.XPATH, locator)))\n",
    "\n",
    "# data = driver.page_source\n",
    "# dataParsed = BeautifulSoup(data,'lxml')\n",
    "# Masterdf = pd.DataFrame()\n",
    "driver.find_element_by_id('data_sheet_daily_actions_button').click()\n",
    "time.sleep(1)\n",
    "driver.find_element_by_id(\"data_sheet_daily_actions_menu_14i\").click()\n",
    "time.sleep(5)\n",
    "data = BeautifulSoup(driver.page_source,'lxml')\n",
    "downloadCSV = data.find('a',id = 'data_sheet_daily_download_CSV')['href']\n",
    "\n",
    "driver.find_element_by_id(\"data_sheet_daily_download_CSV\").click()\n",
    "link = \"https://dynamics.pharmaview.dk/ords/\"+ downloadCSV\n",
    "driver.get(link)\n",
    "time.sleep(20)\n",
    "\n",
    "\n",
    "# # data = driver.page_source\n",
    "# # dataParsed = BeautifulSoup(data,'lxml')\n",
    "# # Masterdf = pd.DataFrame()\n",
    "\n",
    "driver.close()"
   ]
  },
  {
   "cell_type": "code",
   "execution_count": 6,
   "metadata": {},
   "outputs": [],
   "source": [
    "data = BeautifulSoup(driver.page_source,'lxml')"
   ]
  },
  {
   "cell_type": "code",
   "execution_count": 8,
   "metadata": {},
   "outputs": [],
   "source": [
    "s = data.find('a',id = 'data_sheet_daily_download_CSV')['href']\n",
    "link = \"https://dynamics.pharmaview.dk/ords/\"+s\n",
    "driver.get(link)\n",
    "# time.sleep(1)\n",
    "# driver.find_element_by_id(\"data_sheet_daily_actions_menu_3_0_c9i\").click()"
   ]
  },
  {
   "cell_type": "code",
   "execution_count": null,
   "metadata": {},
   "outputs": [],
   "source": []
  },
  {
   "cell_type": "code",
   "execution_count": null,
   "metadata": {},
   "outputs": [],
   "source": [
    "# dataParsed = BeautifulSoup(data,'lxml')\n",
    "# dataParsed.find('span',class_ = 'a-IRR-pagination-label').text.replace(\" \",\"\").split(\"-\")[0]"
   ]
  },
  {
   "cell_type": "code",
   "execution_count": null,
   "metadata": {},
   "outputs": [],
   "source": [
    "int(driver.find_element(By.XPATH,'//*[@id=\"data_sheet_daily_data_panel\"]/div[2]/ul/li[2]/span').text.replace(\" \",\"\").split(\"-\")[0])"
   ]
  },
  {
   "cell_type": "code",
   "execution_count": null,
   "metadata": {},
   "outputs": [],
   "source": [
    "# prev = 1\n",
    "# while(1):\n",
    "#     try:\n",
    "#         driver.find_element(By.XPATH,'//*[@id=\"data_sheet_daily_data_panel\"]/div[2]/ul/li[3]/button').click()\n",
    "#     except:\n",
    "#         break\n",
    "#     time.sleep(5)\n",
    "#     timeout = 500\n",
    "#     WebDriverWait(driver, timeout).until(int(driver.find_element(By.XPATH,'//*[@id=\"data_sheet_daily_data_panel\"]/div[2]/ul/li[2]/span').text.replace(\" \",\"\").split(\"-\")[0])==prev+50)\n",
    "#     prev+=50\n",
    "#     df1 = pd.read_html(driver.page_source)\n",
    "#     Masterdf = Masterdf.append(df1[1])\n",
    "   \n"
   ]
  },
  {
   "cell_type": "code",
   "execution_count": null,
   "metadata": {},
   "outputs": [],
   "source": [
    "Masterdf.tail()"
   ]
  },
  {
   "cell_type": "code",
   "execution_count": null,
   "metadata": {
    "scrolled": true
   },
   "outputs": [],
   "source": [
    "df1 = pd.read_html(data)\n",
    "Masterdf = Masterdf.append(df1[1])\n",
    "Masterdf"
   ]
  },
  {
   "cell_type": "code",
   "execution_count": null,
   "metadata": {
    "scrolled": true
   },
   "outputs": [],
   "source": []
  },
  {
   "cell_type": "markdown",
   "metadata": {},
   "source": [
    "Pharmaview Daily Data Primary sector py file 25/5/2020"
   ]
  },
  {
   "cell_type": "code",
   "execution_count": 6,
   "metadata": {},
   "outputs": [],
   "source": [
    "defaultDirectory = r'C:\\Users\\venug\\Downloads\\PharmaviewDailyData\\PrimarySector'\n",
    "options = webdriver.ChromeOptions()\n",
    "# options.add_argument('--headless')\n",
    "options.add_argument('--incognito')\n",
    "options.add_argument('--no-sandbox')\n",
    "options.add_argument('--disable-dev-shm-usage')\n",
    "# options.add_argument(\"download.default_directory=C:/Users/venug/Downloads/PharmaviewData/\")\n",
    "prefs = {\"profile.default_content_settings.popups\": 0,\n",
    "             \"download.default_directory\": defaultDirectory,\n",
    "                        #r'C:\\Users\\venug\\Downloads\\PharmaviewDailyData\\PrimarySector\\\\,'IMPORTANT - ENDING SLASH V IMPORTANT\n",
    "             \"directory_upgrade\": True}\n",
    "options.add_experimental_option('prefs',prefs)\n",
    "initialCount = len(os.listdir(defaultDirectory))\n",
    "driver = webdriver.Chrome(r'C:\\Users\\venug\\Downloads\\chromedriver.exe',options = options)\n",
    "driver.get('https://dynamics.pharmaview.dk/ords/f?p=300:101')\n",
    "\n",
    "\n",
    "driver.find_element_by_id(\"P101_USERNAME\").send_keys('sgauvain@amgen.com')\n",
    "driver.find_element_by_id(\"P101_PASSWORD\").send_keys('Covid19reallysucks')\n",
    "driver.find_element_by_id('P101_LOGIN').click()\n",
    "timeout = 500\n",
    "newCount = initialCount\n",
    "while(initialCount == newCount):\n",
    "       try:\n",
    "              locator = '//*[@id=\"direct_menu_menubar_2i\"]'\n",
    "              WebDriverWait(driver, timeout).until(EC.visibility_of_element_located((By.XPATH, locator)))\n",
    "              driver.find_element_by_id(\"direct_menu_menubar_2i\").click()\n",
    "              driver.find_element_by_id('show_filters').click()\n",
    "              time.sleep(2)\n",
    "              driver.find_element_by_id('P80_SECTORS').send_keys('Primary Sector')\n",
    "              timeout = 500\n",
    "              locator = '//*[@id=\"15813645532759790_orig\"]'\n",
    "              WebDriverWait(driver, timeout).until(EC.visibility_of_element_located((By.XPATH, locator)))\n",
    "              time.sleep(10)\n",
    "              # data = driver.page_source\n",
    "              # dataParsed = BeautifulSoup(data,'lxml')\n",
    "              # Masterdf = pd.DataFrame()\n",
    "              driver.find_element_by_id('data_sheet_daily_actions_button').click()\n",
    "              time.sleep(3)\n",
    "              driver.find_element_by_id(\"data_sheet_daily_actions_menu_14i\").click()\n",
    "              time.sleep(10)\n",
    "              driver.find_element_by_id(\"data_sheet_daily_download_CSV\").click()\n",
    "              #driver.find_element_by_id(\"data_sheet_daily_download_CSV\").click()\n",
    "              #driver.find_element(By.XPATH,'//*[@id=\"data_sheet_daily_download_CSV\"]').click()\n",
    "       except:\n",
    "              pass\n",
    "       \n",
    "       time.sleep(30)\n",
    "       newCount = len(os.listdir(defaultDirectory))\n",
    "driver.close()\n"
   ]
  },
  {
   "cell_type": "code",
   "execution_count": null,
   "metadata": {},
   "outputs": [],
   "source": []
  },
  {
   "cell_type": "code",
   "execution_count": null,
   "metadata": {},
   "outputs": [],
   "source": []
  },
  {
   "cell_type": "code",
   "execution_count": null,
   "metadata": {},
   "outputs": [],
   "source": []
  },
  {
   "cell_type": "code",
   "execution_count": null,
   "metadata": {},
   "outputs": [],
   "source": []
  },
  {
   "cell_type": "code",
   "execution_count": null,
   "metadata": {},
   "outputs": [],
   "source": []
  },
  {
   "cell_type": "code",
   "execution_count": null,
   "metadata": {},
   "outputs": [],
   "source": []
  },
  {
   "cell_type": "code",
   "execution_count": null,
   "metadata": {},
   "outputs": [],
   "source": []
  },
  {
   "cell_type": "code",
   "execution_count": null,
   "metadata": {},
   "outputs": [],
   "source": []
  },
  {
   "cell_type": "code",
   "execution_count": null,
   "metadata": {},
   "outputs": [],
   "source": []
  }
 ],
 "metadata": {
  "kernelspec": {
   "display_name": "Python 3",
   "language": "python",
   "name": "python3"
  },
  "language_info": {
   "codemirror_mode": {
    "name": "ipython",
    "version": 3
   },
   "file_extension": ".py",
   "mimetype": "text/x-python",
   "name": "python",
   "nbconvert_exporter": "python",
   "pygments_lexer": "ipython3",
   "version": "3.7.6"
  }
 },
 "nbformat": 4,
 "nbformat_minor": 2
}
