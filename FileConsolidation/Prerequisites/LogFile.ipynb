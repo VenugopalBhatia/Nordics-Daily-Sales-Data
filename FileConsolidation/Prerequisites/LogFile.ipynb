{
 "cells": [
  {
   "cell_type": "code",
   "execution_count": 131,
   "metadata": {},
   "outputs": [],
   "source": [
    "import pandas as pd"
   ]
  },
  {
   "cell_type": "code",
   "execution_count": 132,
   "metadata": {},
   "outputs": [],
   "source": [
    "dfUploadParameters = pd.read_excel(r'D:\\Users\\vbhati01\\FileConsolidation\\Prerequisites\\Required Process Parameters.xlsx',header = 5)"
   ]
  },
  {
   "cell_type": "code",
   "execution_count": 133,
   "metadata": {},
   "outputs": [],
   "source": [
    "logFileDfPath = dfUploadParameters[(dfUploadParameters['Field'].str.lower().str.strip()=='filepath') & (dfUploadParameters['Source'].str.lower().str.strip()=='logfile')]['Value'].item()"
   ]
  },
  {
   "cell_type": "code",
   "execution_count": 134,
   "metadata": {},
   "outputs": [],
   "source": [
    "logFileDf =  pd.DataFrame(columns = ['Script','Executed'])"
   ]
  },
  {
   "cell_type": "code",
   "execution_count": 135,
   "metadata": {},
   "outputs": [],
   "source": [
    "logFileDf = logFileDf.append({'Script':'PharmaviewWeeklyBrickDataHospitalSector','Executed':0},ignore_index = True)\n",
    "logFileDf = logFileDf.append({'Script':'PharmaviewWeeklyBrickDataPrimarySector','Executed':0},ignore_index = True)\n",
    "logFileDf = logFileDf.append({'Script':'PharmaviewDailyDataHospitalSector','Executed':0},ignore_index = True)\n",
    "logFileDf = logFileDf.append({'Script':'PharmaviewDailyDataPrimarySector','Executed':0},ignore_index = True)\n",
    "logFileDf = logFileDf.append({'Script':'TamroDailyData','Executed':0},ignore_index = True)\n"
   ]
  },
  {
   "cell_type": "code",
   "execution_count": 136,
   "metadata": {},
   "outputs": [],
   "source": [
    "logFileDf.index.name = \"SNo.\""
   ]
  },
  {
   "cell_type": "code",
   "execution_count": 137,
   "metadata": {
    "scrolled": true
   },
   "outputs": [],
   "source": [
    "logFileDf.to_excel(logFileDfPath)"
   ]
  }
 ],
 "metadata": {
  "kernelspec": {
   "display_name": "Python 3",
   "language": "python",
   "name": "python3"
  },
  "language_info": {
   "codemirror_mode": {
    "name": "ipython",
    "version": 3
   },
   "file_extension": ".py",
   "mimetype": "text/x-python",
   "name": "python",
   "nbconvert_exporter": "python",
   "pygments_lexer": "ipython3",
   "version": "3.7.6"
  }
 },
 "nbformat": 4,
 "nbformat_minor": 4
}
