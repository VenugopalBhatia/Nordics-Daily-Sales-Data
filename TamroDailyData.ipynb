{
 "cells": [
  {
   "cell_type": "code",
   "execution_count": 38,
   "metadata": {},
   "outputs": [],
   "source": [
    "import pandas as pd\n",
    "from bs4 import BeautifulSoup\n",
    "from selenium import webdriver\n",
    "from tqdm import tqdm_notebook\n",
    "from selenium.webdriver.common.by import By\n",
    "from selenium.webdriver.support.ui import WebDriverWait\n",
    "import selenium.webdriver.support.expected_conditions as EC\n",
    "import time\n",
    "from selenium.webdriver import ActionChains"
   ]
  },
  {
   "cell_type": "code",
   "execution_count": 45,
   "metadata": {},
   "outputs": [],
   "source": [
    "options = webdriver.ChromeOptions()\n",
    "options.add_argument('--headless')\n",
    "options.add_argument('--no-sandbox')\n",
    "options.add_argument('--disable-dev-shm-usage')"
   ]
  },
  {
   "cell_type": "code",
   "execution_count": 47,
   "metadata": {},
   "outputs": [],
   "source": [
    "driver = webdriver.Chrome(r'C:\\Users\\venug\\Downloads\\chromedriver.exe')\n",
    "driver.get(' https://bright.tamro.fi/qlikview/FormLogin.htm')\n",
    "driver.find_element_by_id(\"username\").send_keys('samuel.gauvain')\n",
    "driver.find_element_by_id(\"password\").send_keys('Calypso2020')\n",
    "driver.find_element(By.XPATH,'//*[@id=\"loginForm\"]/input').click()\n",
    "timeout = 500\n",
    "locator = '//*[@id=\"appList2\"]/span[1]/span[2]/a[2]'\n",
    "WebDriverWait(driver, timeout).until(EC.visibility_of_element_located((By.XPATH, locator)))\n",
    "driver.find_element(By.XPATH,'//*[@id=\"appList2\"]/span[1]/span[2]/a[2]').click()\n",
    "driver.switch_to.window(driver.window_handles[-1])\n",
    "timeout = 500\n",
    "locator = '//*[@id=\"QvAjaxToolbar-left\"]/li[23]/select'\n",
    "WebDriverWait(driver, timeout).until(EC.visibility_of_element_located((By.XPATH, locator)))\n",
    "driver.find_element(By.XPATH,'//*[@id=\"QvAjaxToolbar-left\"]/li[23]/select').send_keys('Daily Sales Fia')\n",
    "timeout = 500\n",
    "locator = '//*[@id=\"165\"]/div[2]/div[1]/div[1]/div[1]/div/div[1]'\n",
    "WebDriverWait(driver, timeout).until(EC.visibility_of_element_located((By.XPATH, locator)))\n",
    "dateTable = driver.find_element(By.XPATH,'//*[@id=\"165\"]/div[2]/div[1]/div[1]/div[1]/div/div[1]')\n",
    "actionChains = ActionChains(driver)\n",
    "time.sleep(5)\n",
    "actionChains.context_click(dateTable).perform()\n",
    "timeout = 500\n",
    "locator = '/html/body/ul/li[4]/a'\n",
    "WebDriverWait(driver, timeout).until(EC.visibility_of_element_located((By.XPATH, locator)))\n",
    "driver.find_element(By.XPATH,'/html/body/ul/li[4]/a').click()"
   ]
  },
  {
   "cell_type": "code",
   "execution_count": null,
   "metadata": {},
   "outputs": [],
   "source": []
  },
  {
   "cell_type": "code",
   "execution_count": null,
   "metadata": {},
   "outputs": [],
   "source": []
  },
  {
   "cell_type": "code",
   "execution_count": 86,
   "metadata": {},
   "outputs": [],
   "source": []
  },
  {
   "cell_type": "code",
   "execution_count": null,
   "metadata": {},
   "outputs": [],
   "source": []
  }
 ],
 "metadata": {
  "kernelspec": {
   "display_name": "Python 3",
   "language": "python",
   "name": "python3"
  },
  "language_info": {
   "codemirror_mode": {
    "name": "ipython",
    "version": 3
   },
   "file_extension": ".py",
   "mimetype": "text/x-python",
   "name": "python",
   "nbconvert_exporter": "python",
   "pygments_lexer": "ipython3",
   "version": "3.7.4"
  }
 },
 "nbformat": 4,
 "nbformat_minor": 2
}
